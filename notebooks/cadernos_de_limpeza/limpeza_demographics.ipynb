{
 "cells": [
  {
   "cell_type": "markdown",
   "id": "7386e986",
   "metadata": {},
   "source": [
    "# Limpeza — demographics.csv"
   ]
  },
  {
   "cell_type": "code",
   "execution_count": 23,
   "id": "84526c88",
   "metadata": {},
   "outputs": [
    {
     "name": "stdout",
     "output_type": "stream",
     "text": [
      "CSV_PATH: /Users/augusto/Library/Mobile Documents/com~apple~CloudDocs/git/avalensurance-bia/data/demographics.csv\n",
      "Existe o arquivo? True\n"
     ]
    }
   ],
   "source": [
    "from pathlib import Path\n",
    "\n",
    "CSV_PATH = Path(\"/Users/augusto/Library/Mobile Documents/com~apple~CloudDocs/git/avalensurance-bia/data/demographics.csv\")\n",
    "\n",
    "\n",
    "print(\"CSV_PATH:\", CSV_PATH)\n",
    "print(\"Existe o arquivo?\", CSV_PATH.exists())\n",
    "if not CSV_PATH.exists():\n",
    "    raise FileNotFoundError(\"Arquivo não encontrado. Edite CSV_PATH acima e rode novamente.\")"
   ]
  },
  {
   "cell_type": "code",
   "execution_count": 24,
   "id": "1197236b",
   "metadata": {},
   "outputs": [
    {
     "name": "stdout",
     "output_type": "stream",
     "text": [
      "Dimensão inicial (linhas, colunas): (71280, 11)\n",
      "Duplicatas exatas removidas: 6480 (de 71280 → 64800)\n",
      "✅ CSV limpo salvo em: /Users/augusto/Library/Mobile Documents/com~apple~CloudDocs/git/avalensurance-bia/data/demographics_cleaned.csv\n",
      "✔ Nenhuma contradição encontrada.\n"
     ]
    }
   ],
   "source": [
    "import pandas as pd\n",
    "\n",
    "df = pd.read_csv(CSV_PATH)\n",
    "print(\"Dimensão inicial (linhas, colunas):\", df.shape)\n",
    "\n",
    "if \"person_id\" not in df.columns:\n",
    "    raise ValueError(\"A coluna 'person_id' não existe no CSV.\")\n",
    "\n",
    "# Ordenar por person_id (mergesort estável): numérico -> string\n",
    "pid_num = pd.to_numeric(df[\"person_id\"], errors=\"coerce\")\n",
    "df = (\n",
    "    df.assign(_pid_num=pid_num, _pid_str=df[\"person_id\"].astype(str))\n",
    "      .sort_values(by=[\"_pid_num\", \"_pid_str\"], kind=\"mergesort\", na_position=\"last\")\n",
    "      .drop(columns=[\"_pid_num\", \"_pid_str\"])\n",
    "      .reset_index(drop=True)\n",
    ")\n",
    "\n",
    "# Remover duplicatas EXATAS\n",
    "before = len(df)\n",
    "df = df.drop_duplicates(keep=\"first\")\n",
    "after = len(df)\n",
    "print(f\"Duplicatas exatas removidas: {before - after} (de {before} → {after})\")\n",
    "\n",
    "# Contradições (mesmo person_id com outros campos diferentes)\n",
    "other_cols = [c for c in df.columns if c != \"person_id\"]\n",
    "contradiction_ids = []\n",
    "if other_cols:\n",
    "    unique_combos = df.drop_duplicates(subset=[\"person_id\"] + other_cols)\n",
    "    counts = unique_combos.groupby(\"person_id\", dropna=False).size()\n",
    "    contradiction_ids = counts[counts > 1].index.tolist()\n",
    "\n",
    "# Caminhos de saída com base na raiz do repo (um nível acima de 'data')\n",
    "repo_dir = CSV_PATH.parent.parent\n",
    "out_clean = repo_dir / \"data\" / \"demographics_cleaned.csv\"\n",
    "out_contra = repo_dir / \"data\" / \"person_ids_contradicoes.csv\"\n",
    "\n",
    "# Salvar\n",
    "out_clean.parent.mkdir(parents=True, exist_ok=True)\n",
    "df.to_csv(out_clean, index=False)\n",
    "print(\"✅ CSV limpo salvo em:\", out_clean)\n",
    "\n",
    "if contradiction_ids:\n",
    "    pd.DataFrame({\"person_id\": contradiction_ids}).to_csv(out_contra, index=False)\n",
    "    print(f\"⚠️ {len(contradiction_ids)} person_id(s) com contradições. Lista salva em:\", out_contra)\n",
    "    for pid in contradiction_ids[:100]:\n",
    "        print(f\"person_id::{pid}  erro contraditório\")\n",
    "    if len(contradiction_ids) > 100:\n",
    "        print(f\"... e mais {len(contradiction_ids) - 100} person_id(s).\")\n",
    "else:\n",
    "    print(\"✔ Nenhuma contradição encontrada.\")"
   ]
  }
 ],
 "metadata": {
  "kernelspec": {
   "display_name": "venv",
   "language": "python",
   "name": "python3"
  },
  "language_info": {
   "codemirror_mode": {
    "name": "ipython",
    "version": 3
   },
   "file_extension": ".py",
   "mimetype": "text/x-python",
   "name": "python",
   "nbconvert_exporter": "python",
   "pygments_lexer": "ipython3",
   "version": "3.12.4"
  }
 },
 "nbformat": 4,
 "nbformat_minor": 5
}
