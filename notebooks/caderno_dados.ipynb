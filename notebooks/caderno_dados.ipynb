{
 "cells": [
  {
   "cell_type": "code",
   "execution_count": 1,
   "id": "7438b36b",
   "metadata": {},
   "outputs": [
    {
     "name": "stdout",
     "output_type": "stream",
     "text": [
      "Credenciais OK | Bucket: bucket-t2-avalensurance | Região: sa-east-1\n"
     ]
    }
   ],
   "source": [
    "import os, json, pathlib\n",
    "import boto3\n",
    "from botocore.exceptions import ClientError\n",
    "\n",
    "# Caminho para o arquivo de credenciais\n",
    "creds_path = pathlib.Path(\"../secret/credentials.json\").resolve()\n",
    "if not creds_path.exists():\n",
    "    raise FileNotFoundError(f\"Não encontrei o arquivo de credenciais: {creds_path}.\\nColoque seu credentials.json em 'secret/'.\")\n",
    "\n",
    "with open(creds_path, \"r\", encoding=\"utf-8\") as f:\n",
    "    creds = json.load(f)\n",
    "\n",
    "required = [\"aws_access_key_id\", \"aws_secret_access_key\", \"bucket\"]\n",
    "for k in required:\n",
    "    if k not in creds:\n",
    "        raise KeyError(f\"Chave obrigatória ausente no credentials.json: '{k}'\")\n",
    "\n",
    "aws_access_key_id     = creds[\"aws_access_key_id\"]\n",
    "aws_secret_access_key = creds[\"aws_secret_access_key\"]\n",
    "aws_region            = creds.get(\"region\", \"sa-east-1\")\n",
    "bucket_name           = creds[\"bucket\"]\n",
    "\n",
    "# Cliente S3 (usa credenciais diretamente, sem gravar nada em disco)\n",
    "s3 = boto3.client(\n",
    "    \"s3\",\n",
    "    aws_access_key_id=aws_access_key_id,\n",
    "    aws_secret_access_key=aws_secret_access_key,\n",
    "    region_name=aws_region,\n",
    ")\n",
    "\n",
    "print(\"Credenciais OK | Bucket:\", bucket_name, \"| Região:\", aws_region)\n"
   ]
  },
  {
   "cell_type": "code",
   "execution_count": 2,
   "id": "7061db15",
   "metadata": {},
   "outputs": [
    {
     "name": "stdout",
     "output_type": "stream",
     "text": [
      "Primeiros 6 objetos do bucket:\n",
      " - clinical.csv\n",
      " - costs.csv\n",
      " - demographics.csv\n",
      " - lifestyle.csv\n",
      " - policy.csv\n",
      " - utilization.csv\n"
     ]
    }
   ],
   "source": [
    "# Listar alguns objetos \n",
    "def listar_objetos(bucket, prefix=None, max_items=50):\n",
    "    paginator = s3.get_paginator('list_objects_v2')\n",
    "    params = {\"Bucket\": bucket}\n",
    "    if prefix:\n",
    "        params[\"Prefix\"] = prefix\n",
    "    encontrados = []\n",
    "    try:\n",
    "        for page in paginator.paginate(**params):\n",
    "            for obj in page.get(\"Contents\", []):\n",
    "                encontrados.append(obj[\"Key\"])\n",
    "                if len(encontrados) >= max_items:\n",
    "                    return encontrados\n",
    "    except ClientError as e:\n",
    "        print(\"Erro ao listar objetos:\", e)\n",
    "    return encontrados\n",
    "\n",
    "amostra = listar_objetos(bucket_name, max_items=30)\n",
    "print(f\"Primeiros {len(amostra)} objetos do bucket:\")\n",
    "for k in amostra:\n",
    "    print(\" -\", k if len(k) < 120 else k[:117] + \"...\")\n"
   ]
  },
  {
   "cell_type": "code",
   "execution_count": 3,
   "id": "1a9d9858",
   "metadata": {},
   "outputs": [
    {
     "name": "stdout",
     "output_type": "stream",
     "text": [
      "Baixando: clinical.csv\n",
      "Baixando: costs.csv\n",
      "Baixando: demographics.csv\n",
      "Baixando: lifestyle.csv\n",
      "Baixando: policy.csv\n",
      "Baixando: utilization.csv\n",
      "Concluído: 6 arquivos baixados em: C:\\AmbienteProgrmacao\\Projetos\\avalensurance-bia\\data\n"
     ]
    }
   ],
   "source": [
    "# Função para baixar tudo \n",
    "import os\n",
    "from pathlib import Path\n",
    "\n",
    "def baixar_bucket(bucket, destino=\"../data\", prefix=None):\n",
    "    destino_path = Path(destino)\n",
    "    destino_path.mkdir(parents=True, exist_ok=True)\n",
    "\n",
    "    paginator = s3.get_paginator('list_objects_v2')\n",
    "    params = {\"Bucket\": bucket}\n",
    "    if prefix:\n",
    "        params[\"Prefix\"] = prefix\n",
    "\n",
    "    total = 0\n",
    "    try:\n",
    "        for page in paginator.paginate(**params):\n",
    "            for obj in page.get('Contents', []):\n",
    "                key = obj['Key']\n",
    "                # Mantém a estrutura de pastas local\n",
    "                local_path = destino_path / key if not prefix else destino_path / key[len(prefix):].lstrip(\"/\")\n",
    "                local_path.parent.mkdir(parents=True, exist_ok=True)\n",
    "                print(\"Baixando:\", key)\n",
    "                s3.download_file(bucket, key, str(local_path))\n",
    "                total += 1\n",
    "    except ClientError as e:\n",
    "        print(\"Erro ao baixar:\", e)\n",
    "        raise\n",
    "\n",
    "    print(f\"Concluído: {total} arquivos baixados em: {destino_path.resolve()}\")\n",
    "\n",
    "# === EXECUÇÃO PADRÃO: baixar tudo para ../data ===\n",
    "baixar_bucket(bucket_name, destino=\"../data\")\n",
    "\n",
    "# === EXEMPLO: baixar somente um prefixo específico ===\n",
    "# baixar_bucket(bucket_name, destino=\"../data/recorte\", prefix=\"pasta/no/s3/\")\n"
   ]
  },
  {
   "cell_type": "code",
   "execution_count": 4,
   "id": "d0dc1ee2",
   "metadata": {},
   "outputs": [
    {
     "name": "stdout",
     "output_type": "stream",
     "text": [
      "📦 6 arquivos baixados.\n",
      " - clinical.csv\n",
      " - costs.csv\n",
      " - demographics.csv\n",
      " - lifestyle.csv\n",
      " - policy.csv\n",
      " - utilization.csv\n"
     ]
    }
   ],
   "source": [
    "# Verificar quantos arquivos foram baixados e listar alguns exemplos\n",
    "from pathlib import Path\n",
    "base = Path(\"../data\").resolve()\n",
    "arquivos = [str(p.relative_to(base)) for p in base.rglob(\"*\") if p.is_file()]\n",
    "print(f\"📦 {len(arquivos)} arquivos baixados.\")\n",
    "for k in arquivos[:20]:\n",
    "    print(\" -\", k)\n"
   ]
  }
 ],
 "metadata": {
  "kernelspec": {
   "display_name": ".venv",
   "language": "python",
   "name": "python3"
  },
  "language_info": {
   "codemirror_mode": {
    "name": "ipython",
    "version": 3
   },
   "file_extension": ".py",
   "mimetype": "text/x-python",
   "name": "python",
   "nbconvert_exporter": "python",
   "pygments_lexer": "ipython3",
   "version": "3.13.7"
  }
 },
 "nbformat": 4,
 "nbformat_minor": 5
}
